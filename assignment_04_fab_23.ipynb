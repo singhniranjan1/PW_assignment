{
 "cells": [
  {
   "cell_type": "markdown",
   "id": "9f9b2f76-b9ea-497b-aa6f-720eaf4e2812",
   "metadata": {},
   "source": [
    "Question:1"
   ]
  },
  {
   "cell_type": "code",
   "execution_count": 1,
   "id": "d674066b-8306-48e3-a307-368a175d8e88",
   "metadata": {},
   "outputs": [
    {
     "name": "stdout",
     "output_type": "stream",
     "text": [
      "[('Virat Kohli', 24936), ('Jack Kallis', 25534), ('Ricky Ponting', 27483), ('Sachin Tendulkar', 34357)]\n"
     ]
    }
   ],
   "source": [
    "l= [('Sachin Tendulkar', 34357), ('Ricky Ponting', 27483), ('Jack Kallis', 25534), ('Virat Kohli', 24936)]\n",
    "l .sort(key = lambda x : x[1])\n",
    "print(l)"
   ]
  },
  {
   "cell_type": "markdown",
   "id": "d2485b02-5bc0-4b73-85c8-6f59377083b4",
   "metadata": {},
   "source": [
    "Question: 2"
   ]
  },
  {
   "cell_type": "code",
   "execution_count": 2,
   "id": "ddc5d415-5e70-47d9-925f-ac189d6c76d2",
   "metadata": {},
   "outputs": [
    {
     "data": {
      "text/plain": [
       "[1, 4, 9, 16, 25, 36, 49, 64, 81, 100]"
      ]
     },
     "execution_count": 2,
     "metadata": {},
     "output_type": "execute_result"
    }
   ],
   "source": [
    "n = [1, 2, 3, 4, 5, 6, 7, 8, 9, 10]\n",
    "\n",
    "list(map(lambda x: x**2 , n))"
   ]
  },
  {
   "cell_type": "markdown",
   "id": "15be8b66-ad69-4162-b48c-c062948e999b",
   "metadata": {},
   "source": [
    "Question: 3"
   ]
  },
  {
   "cell_type": "code",
   "execution_count": 3,
   "id": "da681bf6-10c1-4313-8641-a9c657c415ab",
   "metadata": {},
   "outputs": [
    {
     "data": {
      "text/plain": [
       "('1', '2', '3', '4', '5', '6', '7', '8', '9', '10')"
      ]
     },
     "execution_count": 3,
     "metadata": {},
     "output_type": "execute_result"
    }
   ],
   "source": [
    "l = [1, 2, 3, 4, 5, 6, 7, 8, 9, 10]\n",
    "tuple(map(str, l))"
   ]
  },
  {
   "cell_type": "markdown",
   "id": "473b7866-e8fe-47b4-96ad-79a7b3adb592",
   "metadata": {},
   "source": [
    "Question: 4"
   ]
  },
  {
   "cell_type": "code",
   "execution_count": 4,
   "id": "ff177c35-af4c-4e8a-8308-c33c45e044da",
   "metadata": {},
   "outputs": [
    {
     "data": {
      "text/plain": [
       "325"
      ]
     },
     "execution_count": 4,
     "metadata": {},
     "output_type": "execute_result"
    }
   ],
   "source": [
    "from functools import reduce \n",
    "\n",
    "l = [1, 2, 3, 4, 5, 6, 7, 8, 9, 10,11,12,13,14,15,16,17,18,19,20,21,22,23,24,25]\n",
    "reduce( lambda x, y : x+y ,l)\n"
   ]
  },
  {
   "cell_type": "markdown",
   "id": "a9c2273c-4414-478a-ba6d-32b1088a1065",
   "metadata": {},
   "source": [
    "Question: 5"
   ]
  },
  {
   "cell_type": "code",
   "execution_count": 5,
   "id": "875b32d5-a018-41ac-9944-581837d6d1c3",
   "metadata": {},
   "outputs": [
    {
     "data": {
      "text/plain": [
       "[2, 6, 60, 90, 120, 46]"
      ]
     },
     "execution_count": 5,
     "metadata": {},
     "output_type": "execute_result"
    }
   ],
   "source": [
    "l= [2, 3, 6, 9, 27, 60, 90, 120, 55, 46]\n",
    "list(filter(lambda x: x%2==0 & x%3==0, l))"
   ]
  },
  {
   "cell_type": "markdown",
   "id": "40c27c8e-652f-49eb-8431-c3e1fd97e5fc",
   "metadata": {},
   "source": [
    "Question: 6"
   ]
  },
  {
   "cell_type": "code",
   "execution_count": 6,
   "id": "0483c866-aa10-48a5-88ae-3db0c88d9fee",
   "metadata": {},
   "outputs": [
    {
     "data": {
      "text/plain": [
       "['php', 'aba', 'radar', 'level']"
      ]
     },
     "execution_count": 6,
     "metadata": {},
     "output_type": "execute_result"
    }
   ],
   "source": [
    "s = ['python', 'php', 'aba', 'radar', 'level']\n",
    "list(filter(lambda x: (x == \"\".join(reversed(x))), s))"
   ]
  },
  {
   "cell_type": "code",
   "execution_count": null,
   "id": "8e277666-78c0-4ab8-9821-a4884bc718d4",
   "metadata": {},
   "outputs": [],
   "source": []
  }
 ],
 "metadata": {
  "kernelspec": {
   "display_name": "Python 3 (ipykernel)",
   "language": "python",
   "name": "python3"
  },
  "language_info": {
   "codemirror_mode": {
    "name": "ipython",
    "version": 3
   },
   "file_extension": ".py",
   "mimetype": "text/x-python",
   "name": "python",
   "nbconvert_exporter": "python",
   "pygments_lexer": "ipython3",
   "version": "3.10.8"
  }
 },
 "nbformat": 4,
 "nbformat_minor": 5
}

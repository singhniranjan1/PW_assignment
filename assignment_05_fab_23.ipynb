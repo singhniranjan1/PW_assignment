{
 "cells": [
  {
   "cell_type": "markdown",
   "id": "1201bbdd-edd7-46b8-96f4-692e4a72eb13",
   "metadata": {},
   "source": [
    "Question: 1\n",
    "\n",
    "Ans:-\n",
    "Class: A class is constructor for creating objects. \n",
    "\n",
    "Obejct: An object is called an instance of a class. \n",
    "\n",
    "For example book is a class then we can create a objects like self_help_book, text_book, bio_book etc from class."
   ]
  },
  {
   "cell_type": "code",
   "execution_count": 1,
   "id": "2101a393-51e2-4014-9043-a1cbd5b0aa75",
   "metadata": {},
   "outputs": [
    {
     "data": {
      "text/plain": [
       "(10, 15, 20)"
      ]
     },
     "execution_count": 1,
     "metadata": {},
     "output_type": "execute_result"
    }
   ],
   "source": [
    "# example \n",
    "\n",
    "# creating a class\n",
    "\n",
    "class book:\n",
    "    def __init__(self,  self_help_book, text_book, bio_book):\n",
    "\n",
    "#creating an object\n",
    "        \n",
    "        self.self_help_book = self_help_book\n",
    "        self.text_book = text_book\n",
    "        self.bio_book = bio_book\n",
    "    \n",
    "# access attributes\n",
    "    def return_number_of_book(self):\n",
    "        return self.self_help_book, self.text_book, self.bio_book\n",
    "        \n",
    "rack1 = book(10,15,20)    \n",
    "rack1.return_number_of_book()  "
   ]
  },
  {
   "cell_type": "markdown",
   "id": "b5c96099-8df1-4cb8-b9ff-445b1f075621",
   "metadata": {},
   "source": [
    "Question: 2\n",
    "\n",
    "Ans:-\n",
    "There are four pillars of OOPs. which are:\n",
    "    Inheritance, Encapsulation, Polymorphism, and Data abstraction. "
   ]
  },
  {
   "cell_type": "markdown",
   "id": "a7a32546-9bdd-46a8-9f34-6eeb61b7b64b",
   "metadata": {},
   "source": [
    "Question: 3\n",
    "\n",
    "Ans:-\n",
    "__init__() function is inbuilt in python to initialize the attributes of an object as soon as the object is formed.\n",
    "\n",
    "For example, Create a class named 'employee', use the __init__() function to assign values for name,age, department, and Emp_id:"
   ]
  },
  {
   "cell_type": "code",
   "execution_count": 2,
   "id": "7ced02f0-c68c-4b74-bab3-f1cda232c6b4",
   "metadata": {},
   "outputs": [
    {
     "data": {
      "text/plain": [
       "('Sonu', 27, 'HR', 'OZ-21')"
      ]
     },
     "execution_count": 2,
     "metadata": {},
     "output_type": "execute_result"
    }
   ],
   "source": [
    "#Example of \"__init__\" function:\n",
    "\n",
    "class employee:\n",
    "    def __init__(self, name, age, department, Emp_id):\n",
    "        self.name = name\n",
    "        self.age = age\n",
    "        self.department = department\n",
    "        self.Emp_id = Emp_id\n",
    "    def return_Emp_details(self):\n",
    "        return self.name, self.age, self.department, self.Emp_id\n",
    "        \n",
    "employee1 = employee(\"Sonu\", 27, \"HR\", \"OZ-21\")\n",
    "employee1.return_Emp_details()"
   ]
  },
  {
   "cell_type": "markdown",
   "id": "91a0b3fc-4dc3-4511-bbd4-8a7a5f3396f3",
   "metadata": {},
   "source": [
    "Question: 4\n",
    "\n",
    "Ans:-\n",
    "\"self\" represents the object of class. This handy keyword allows you to access variables, attributes, and methods of a defined class."
   ]
  },
  {
   "cell_type": "markdown",
   "id": "0deef76f-49ec-45f7-8f20-ca6a91065039",
   "metadata": {},
   "source": [
    "Question: 5\n",
    "\n",
    "Ans:-\n",
    "\n",
    "Inheritance is a feature or a process in which, new classes are created from the existing classes ans inheritance divide by two class \"Parent class & Child class\" .\n",
    "\n",
    "There are five types of Inheritance, which are:\n",
    "1). Single inheritance\n",
    "2). Multiple inheritances\n",
    "3). Multilevel inheritance\n",
    "4). Hierarchical inheritance\n",
    "5). Hybrid inheritance\n",
    "\n",
    "Following are given example of each type:\n"
   ]
  },
  {
   "cell_type": "code",
   "execution_count": 3,
   "id": "536b20ec-4053-467c-a9fb-2f66632bbaa0",
   "metadata": {},
   "outputs": [
    {
     "name": "stdout",
     "output_type": "stream",
     "text": [
      "This is first generation:- Mohan Das 85 Kanpur\n",
      "This is second generation:- Sohan Das 45 Delhi\n"
     ]
    }
   ],
   "source": [
    "#Example of single inheritance\n",
    "\n",
    "class parent:\n",
    "    def __init__(self, name, age, city):\n",
    "        self.name = name\n",
    "        self.age = age\n",
    "        self.city = city\n",
    "        \n",
    "    def details(self):\n",
    "        pass\n",
    "    \n",
    "class child(parent):\n",
    "    def __init__(self, name, age, city):\n",
    "        self.name = name\n",
    "        self.age = age\n",
    "        self.city = city\n",
    "    def details(self):\n",
    "        pass\n",
    "\n",
    "gen1 = parent(\"Mohan Das\", 85, \"Kanpur\")\n",
    "gen2 = child(\"Sohan Das\" , 45, \"Delhi\")\n",
    "\n",
    "gen1.details()\n",
    "gen2.details()\n",
    "print(\"This is first generation:-\" , gen1.name,  gen1.age,  gen1.city )\n",
    "print(\"This is second generation:-\" , gen2.name , gen2.age, gen2.city)"
   ]
  },
  {
   "cell_type": "code",
   "execution_count": 4,
   "id": "540eddb5-a2a7-47d0-84d0-253824c590c3",
   "metadata": {},
   "outputs": [
    {
     "name": "stdout",
     "output_type": "stream",
     "text": [
      "This is first generation:- Mohan Das 85 Kanpur\n",
      "This is second generation:- Sohan Das 45 Delhi\n",
      "this is third generation:- Gopal Das 20 Delhi\n"
     ]
    }
   ],
   "source": [
    "#Example of multiple inheritance\n",
    "\n",
    "class gen_1:\n",
    "    def __init__(self, name, age, city):\n",
    "        self.name = name\n",
    "        self.age = age\n",
    "        self.city = city\n",
    "        \n",
    "    def details(self):\n",
    "        pass\n",
    "    \n",
    "class gen_2:\n",
    "    def __init__(self, name, age, city):\n",
    "        self.name = name\n",
    "        self.age = age\n",
    "        self.city = city\n",
    "    def details(self):\n",
    "        pass\n",
    "class gen_3(gen_1, gen_2):\n",
    "    def __init__(self, name, age, city):\n",
    "        self.name = name\n",
    "        self.age = age\n",
    "        self.city = city\n",
    "    def details(self):\n",
    "        pass\n",
    "\n",
    "gen1 = gen_1(\"Mohan Das\", 85, \"Kanpur\")\n",
    "gen2 = gen_2(\"Sohan Das\" , 45, \"Delhi\")\n",
    "gen3 = gen_3(\"Gopal Das\" , 20, \"Delhi\")\n",
    "gen1.details()\n",
    "gen2.details()\n",
    "gen3.details()\n",
    "print(\"This is first generation:-\" , gen1.name,  gen1.age,  gen1.city )\n",
    "print(\"This is second generation:-\" , gen2.name , gen2.age, gen2.city)\n",
    "print(\"this is third generation:-\",  gen3.name , gen3.age, gen3.city)"
   ]
  },
  {
   "cell_type": "code",
   "execution_count": 5,
   "id": "c8886fd7-ef0d-4928-a37e-565bb978e9b9",
   "metadata": {},
   "outputs": [
    {
     "name": "stdout",
     "output_type": "stream",
     "text": [
      "First generation is ('Mohan Das', 85, 'Kanpur') and Second generation is ('Sohan Das', 45, 'Delhi')\n"
     ]
    }
   ],
   "source": [
    "#Example of multilevel inheritance\n",
    "\n",
    "class gen_1:\n",
    "    def __init__(self, name, age, city):\n",
    "        self.name = name\n",
    "        self.age = age\n",
    "        self.city = city\n",
    "        \n",
    "    def details(self):\n",
    "        pass\n",
    "    \n",
    "class gen_2(gen_1):\n",
    "    \n",
    "   \n",
    "    def details(self):\n",
    "        pass\n",
    "    \n",
    "    \n",
    "class gen_3(gen_2):\n",
    "    def __init__(self, name, age, city):\n",
    "        gen_2.__init__(self, name, age, city)\n",
    "        self.age = age\n",
    "        self.city = city\n",
    "        \n",
    "    def details(self):\n",
    "        return self.name, self.age , self.city\n",
    "gen1 = gen_3(\"Mohan Das\", 85, \"Kanpur\")\n",
    "gen2 = gen_3(\"Sohan Das\" , 45, \"Delhi\")\n",
    "print(\"First generation is\", gen1.details(), \"and Second generation is\", gen2.details())"
   ]
  },
  {
   "cell_type": "code",
   "execution_count": 6,
   "id": "ff5d471c-98f4-475d-a819-3d570e6d55ad",
   "metadata": {},
   "outputs": [
    {
     "name": "stdout",
     "output_type": "stream",
     "text": [
      " My name is  Mohan Das and i am father of  Sohan Das & gopal das\n"
     ]
    }
   ],
   "source": [
    "#Example of hierarchical inheritance\n",
    "\n",
    "class father:\n",
    "    def __init__(self, name, age, city):\n",
    "        self.name = name\n",
    "        self.age = age\n",
    "        self.city = city\n",
    "        \n",
    "    def details(self):\n",
    "        pass\n",
    "    \n",
    "class son_1(father):\n",
    "    def __init__(self, name, age, city):\n",
    "        self.name = name\n",
    "        self.age = age\n",
    "        self.city = city\n",
    "        \n",
    "    def details(self):\n",
    "        pass\n",
    "    \n",
    "class son_2(father):\n",
    "    def __init__(self, name, age, city):\n",
    "        super().__init__(name, age, city)\n",
    "          \n",
    "    def details(self):\n",
    "        pass\n",
    "    \n",
    "father = father(\"Mohan Das\", 85, \"Kanpur\")\n",
    "elder_son= son_1(\"Sohan Das\" , 45, \"Delhi\")\n",
    "younger_son =son_2(\"gopal das\", 20, \"Noida\")\n",
    "\n",
    "print(\" My name is \", father.name, \"and i am father of \", elder_son.name, \"&\" , younger_son.name)\n"
   ]
  },
  {
   "cell_type": "code",
   "execution_count": 8,
   "id": "1be646eb-fffd-4e62-b9d2-73946cb50a04",
   "metadata": {},
   "outputs": [
    {
     "name": "stdout",
     "output_type": "stream",
     "text": [
      "False\n",
      "True\n",
      "True\n"
     ]
    }
   ],
   "source": [
    "#Example of hybrid inheritance inheritance\n",
    "\n",
    "class parent:\n",
    "    def display(self):\n",
    "        print(\"this is check for parent method\")\n",
    "        \n",
    "class child(parent):\n",
    "    def display(self):\n",
    "        super().display()\n",
    "        print(\"this is check for child method\")\n",
    "        \n",
    "        print(issubclass(child,parent))\n",
    "        \n",
    "        print(issubclass(parent,child))\n",
    "\n",
    "\n",
    "\n",
    "Mohan = parent()\n",
    "Gopal = child()\n",
    "\n",
    "print(isinstance(Mohan, child))\n",
    "print(isinstance(Gopal, child))\n",
    "print(isinstance(Mohan, parent))"
   ]
  },
  {
   "cell_type": "code",
   "execution_count": null,
   "id": "e1c9530f-dd0f-4a16-8b75-95ffe93a38ff",
   "metadata": {},
   "outputs": [],
   "source": []
  },
  {
   "cell_type": "code",
   "execution_count": null,
   "id": "a8a6f33e-62f4-4cc8-873f-ff83a5f25747",
   "metadata": {},
   "outputs": [],
   "source": []
  }
 ],
 "metadata": {
  "kernelspec": {
   "display_name": "Python 3 (ipykernel)",
   "language": "python",
   "name": "python3"
  },
  "language_info": {
   "codemirror_mode": {
    "name": "ipython",
    "version": 3
   },
   "file_extension": ".py",
   "mimetype": "text/x-python",
   "name": "python",
   "nbconvert_exporter": "python",
   "pygments_lexer": "ipython3",
   "version": "3.10.8"
  }
 },
 "nbformat": 4,
 "nbformat_minor": 5
}
